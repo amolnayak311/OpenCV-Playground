{
 "cells": [
  {
   "cell_type": "markdown",
   "metadata": {
    "collapsed": true
   },
   "source": [
    "# Chapter 3\n",
    "\n",
    "In the sheet we will explore the concept of blurring and convolving a matrix. Before applying the operations on images, we will look at small matrices and see what results they yield"
   ]
  },
  {
   "cell_type": "code",
   "execution_count": 31,
   "metadata": {},
   "outputs": [],
   "source": [
    "import numpy as np\n",
    "import cv2\n",
    "from scipy import ndimage\n",
    "import matplotlib.pyplot as plt"
   ]
  },
  {
   "cell_type": "markdown",
   "metadata": {},
   "source": [
    "Let us first define a matrix of size 5 $\\times$ 5 and all values be 5 in it. We will then define a kernel of size 3 $\\times$ 3 and one filter of 5 $\\times$ 5 and convolve it it this ``fivebyfive`` matrix. \n",
    "\n",
    "Before we invoke the convolve operation, lets see what convolve does. Take a look at the following image\n",
    "\n",
    "![ConvolveVisual](ConvolveVisual.png)\n",
    "\n",
    "- Suppose we have an n $\\times$ n image and a k $\\times$ k kernel (with k >= 0 and k is odd).\n",
    "\n",
    "- We use the kernel as a weights matrix on a k $\\times$ k part of the image and multiply the corresponding pixel in the image with the weight given at that location in the kernel.\n",
    "\n",
    "- The image above shows us kernel with k = 3 and an image with n = 5. When we try to map this 3 $\\times$ 3 kernel on 3 $\\times$ 3 portion of the image, we have two conditions\n",
    "\n",
    "    * The kernel completely fits in the image as shown in the first of the three images. This is an easy condition where we simply multiply the $i^{th}$ element of the kernel with the element in the corresponding position in the image. For the first example if we perform element wise multiplication of the colored portion of the image and the kernel we get the (5 $\\times$ 0) + (5 $\\times$ 1) + (5 $\\times$ 0) + (5 $\\times$ 1) + (5 $\\times$ 2) + (5 $\\times$ 1) + (5 $\\times$ 0) + (5 $\\times$ 1) + (5 $\\times$ 0) = 30. The scalar value we get by this operation is the value of that one pixel at the center of the k $\\times$ k patch in the image.\n",
    "    \n",
    "    * The above condition was straight forward. But what if a part of kernel goes outside the image as we see in the $2^{nd}$ and $3^{rd}$ image. In these case we need to make a special provision of padding the image with some value. That some value is configurable and ``ndimage.convolve`` by default uses the reflect mode which essentially reflects the contents at the border of the image outside (this is the  $3^{rd}$ case shown in the picture). Another option is setting the mode to ``constant`` which pads the image with a constant value. The constant value is determined by another parameter ``cval`` which defaults to 0. Similar to the above point, the values of 30 and 20 are computed respectively.\n",
    "\n",
    "\n",
    "\n"
   ]
  },
  {
   "cell_type": "code",
   "execution_count": 9,
   "metadata": {},
   "outputs": [],
   "source": [
    "fivebyfive = np.zeros((5, 5)) + 5\n",
    "threebythree_kernel = np.array([[0, 1, 0], [1, 2, 1], [0, 1, 0]])"
   ]
  },
  {
   "cell_type": "code",
   "execution_count": 24,
   "metadata": {
    "scrolled": true
   },
   "outputs": [
    {
     "data": {
      "text/plain": [
       "array([[ 30.,  30.,  30.,  30.,  30.],\n",
       "       [ 30.,  30.,  30.,  30.,  30.],\n",
       "       [ 30.,  30.,  30.,  30.,  30.],\n",
       "       [ 30.,  30.,  30.,  30.,  30.],\n",
       "       [ 30.,  30.,  30.,  30.,  30.]])"
      ]
     },
     "execution_count": 24,
     "metadata": {},
     "output_type": "execute_result"
    }
   ],
   "source": [
    "ndimage.convolve(fivebyfive, threebythree_kernel, mode = 'reflect')"
   ]
  },
  {
   "cell_type": "code",
   "execution_count": 25,
   "metadata": {},
   "outputs": [
    {
     "data": {
      "text/plain": [
       "array([[ 20.,  25.,  25.,  25.,  20.],\n",
       "       [ 25.,  30.,  30.,  30.,  25.],\n",
       "       [ 25.,  30.,  30.,  30.,  25.],\n",
       "       [ 25.,  30.,  30.,  30.,  25.],\n",
       "       [ 20.,  25.,  25.,  25.,  20.]])"
      ]
     },
     "execution_count": 25,
     "metadata": {},
     "output_type": "execute_result"
    }
   ],
   "source": [
    "ndimage.convolve(fivebyfive, threebythree_kernel, mode = 'constant')"
   ]
  },
  {
   "cell_type": "markdown",
   "metadata": {},
   "source": [
    "---\n",
    "Let us now read an image usinh ``cv2.imread``. The second parameter can take following three values\n",
    "\n",
    "* cv2.IMREAD_COLOR (-1): Loads a color image. Any transparency of image will be neglected. It is the default flag.\n",
    "* cv2.IMREAD_GRAYSCALE (0): Loads image in grayscale mode\n",
    "* cv2.IMREAD_UNCHANGED (1): Loads image as such including alpha channel"
   ]
  },
  {
   "cell_type": "code",
   "execution_count": 46,
   "metadata": {},
   "outputs": [],
   "source": [
    "image = cv2.imread('python.png', cv2.IMREAD_GRAYSCALE)"
   ]
  },
  {
   "cell_type": "code",
   "execution_count": 47,
   "metadata": {},
   "outputs": [
    {
     "data": {
      "text/plain": [
       "(64, 64)"
      ]
     },
     "execution_count": 47,
     "metadata": {},
     "output_type": "execute_result"
    }
   ],
   "source": [
    "image.shape"
   ]
  },
  {
   "cell_type": "markdown",
   "metadata": {},
   "source": [
    "Lets display this image"
   ]
  },
  {
   "cell_type": "code",
   "execution_count": 82,
   "metadata": {},
   "outputs": [
    {
     "data": {
      "image/png": "[encoded data removed]",
      "text/plain": [
       "<matplotlib.figure.Figure at 0x124dc7630>"
      ]
     },
     "metadata": {},
     "output_type": "display_data"
    }
   ],
   "source": [
    "def displayImage(image, isbgr = False):\n",
    "    image = image if not isbgr else cv2.cvtColor(image, cv2.COLOR_BGR2RGB)\n",
    "    if len(image.shape) == 2:\n",
    "        plt.imshow(image, cmap='gray')\n",
    "    else:\n",
    "        plt.imshow(image)        \n",
    "    plt.axis('off')\n",
    "    plt.show()\n",
    "\n",
    "displayImage(image)"
   ]
  },
  {
   "cell_type": "markdown",
   "metadata": {},
   "source": [
    "Let is do a couple of things\n",
    "\n",
    "* Apply a $3\\times3$ kernel on the image and display it\n",
    "* Apply a GaussianBlur on the image"
   ]
  },
  {
   "cell_type": "code",
   "execution_count": 88,
   "metadata": {},
   "outputs": [
    {
     "data": {
      "image/png": "[encoded data removed]",
      "text/plain": [
       "<matplotlib.figure.Figure at 0x124939358>"
      ]
     },
     "metadata": {},
     "output_type": "display_data"
    }
   ],
   "source": [
    "kernel = [[-1, -1, -1], [-1, 8, -1], [-1, -1, -1]]\n",
    "convolvedImage = ndimage.convolve(image, kernel)\n",
    "displayImage(convolvedImage)"
   ]
  },
  {
   "cell_type": "code",
   "execution_count": 84,
   "metadata": {},
   "outputs": [
    {
     "data": {
      "image/png": "[encoded data removed]",
      "text/plain": [
       "<matplotlib.figure.Figure at 0x124bbddd8>"
      ]
     },
     "metadata": {},
     "output_type": "display_data"
    }
   ],
   "source": [
    "blurredImage = cv2.GaussianBlur(image, (5, 5), sigmaX = 1)\n",
    "displayImage(blurredImage)"
   ]
  },
  {
   "cell_type": "markdown",
   "metadata": {},
   "source": [
    "[Gaussian Blur](https://en.wikipedia.org/wiki/Gaussian_blur) is a convolution operator which uses the surrounding pixels in a weighted manner to compute a center pixel's value. The area of the kernel forms a gaussian distribution around the central point and the values in this gaussian distribution is used to produce the weights of the corresponding pixel value's contribution to the center pixel, further the pixel is from the current pixel, less it contributes. Typically after 3 standard deviations the contribution of the pixel value to the center pixel becomes 0.\n",
    "\n",
    "The edges in the image represent high frequency. GaussianBlur acts as a Low Pass Filter and filters this high frequency signals allowing only the low frequency signals effectively blurring the image. This operation smoothes the image. Higher the value of the sigma provided to the Gaussian Kernel more smoothing effect it will have on the image\n",
    "\n",
    "The previous convolution operator using the kernel ``[[-1, -1, -1], [-1, 8, -1], [-1, -1, -1]]`` enhanced the edges in the image. Thus this is a High Pass Filter and passes the high frequency signals suppressing low frequency signals"
   ]
  },
  {
   "cell_type": "code",
   "execution_count": null,
   "metadata": {
    "collapsed": true
   },
   "outputs": [],
   "source": []
  }
 ],
 "metadata": {
  "kernelspec": {
   "display_name": "Python 3",
   "language": "python",
   "name": "python3"
  },
  "language_info": {
   "codemirror_mode": {
    "name": "ipython",
    "version": 3
   },
   "file_extension": ".py",
   "mimetype": "text/x-python",
   "name": "python",
   "nbconvert_exporter": "python",
   "pygments_lexer": "ipython3",
   "version": "3.6.2"
  }
 },
 "nbformat": 4,
 "nbformat_minor": 2
}
