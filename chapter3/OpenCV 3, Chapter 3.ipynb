{
 "cells": [
  {
   "cell_type": "markdown",
   "metadata": {
    "collapsed": true
   },
   "source": [
    "# Chapter 3\n",
    "\n",
    "In the sheet we will explore the concept of blurring and convolving a matrix. Before applying the operations on images, we will look at small matrices and see what results they yield"
   ]
  },
  {
   "cell_type": "code",
   "execution_count": 15,
   "metadata": {},
   "outputs": [],
   "source": [
    "import numpy as np\n",
    "import cv2\n",
    "from scipy import ndimage"
   ]
  },
  {
   "cell_type": "markdown",
   "metadata": {},
   "source": [
    "Let us first define a matrix of size 5 $\\times$ 5 and all values be 5 in it. We will then define a kernel of size 3 $\\times$ 3 and one filter of 5 $\\times$ 5 and convolve it it this ``fivebyfive`` matrix. \n",
    "\n",
    "Before we invoke the convolve operation, lets see what convolve does. Take a look at the following image\n",
    "\n",
    "![ConvolveVisual](ConvolveVisual.png)\n",
    "\n",
    "- Suppose we have an n $\\times$ n image and a k $\\times$ k kernel (with k >= 0 and k is odd).\n",
    "\n",
    "- We use the kernel as a weights matrix on a k $\\times$ k part of the image and multiply the corresponding pixel in the image with the weight given at that location in the kernel.\n",
    "\n",
    "- The image above shows us kernel with k = 3 and an image with n = 5. When we try to map this 3 $\\times$ 3 kernel on 3 $\\times$ 3 portion of the image, we have two conditions\n",
    "\n",
    "    * The kernel completely fits in the image as shown in the first of the three images. This is an easy condition where we simply multiply the $i^{th}$ element of the kernel with the element in the corresponding position in the image. For the first example if we perform element wise multiplication of the colored portion of the image and the kernel we get the (5 $\\times$ 0) + (5 $\\times$ 1) + (5 $\\times$ 0) + (5 $\\times$ 1) + (5 $\\times$ 2) + (5 $\\times$ 1) + (5 $\\times$ 0) + (5 $\\times$ 1) + (5 $\\times$ 0) = 30. The scalar value we get by this operation is the value of that one pixel at the center of the k $\\times$ k patch in the image.\n",
    "    \n",
    "    * The above condition was straight forward. But what if a part of kernel goes outside the image as we see in the $2^{nd}$ and $3^{rd}$ image. In these case we need to make a special provision of padding the image with some value. That some value is configurable and ``ndimage.convolve`` by default uses the reflect mode which essentially reflects the contents at the border of the image outside (this is the  $3^{rd}$ case shown in the picture). Another option is setting the mode to ``constant`` which pads the image with a constant value. The constant value is determined by another parameter ``cval`` which defaults to 0. Similar to the above point, the values of 30 and 20 are computed respectively.\n",
    "\n",
    "\n",
    "\n"
   ]
  },
  {
   "cell_type": "code",
   "execution_count": 9,
   "metadata": {},
   "outputs": [],
   "source": [
    "fivebyfive = np.zeros((5, 5)) + 5\n",
    "threebythree_kernel = np.array([[0, 1, 0], [1, 2, 1], [0, 1, 0]])"
   ]
  },
  {
   "cell_type": "code",
   "execution_count": 24,
   "metadata": {
    "scrolled": true
   },
   "outputs": [
    {
     "data": {
      "text/plain": [
       "array([[ 30.,  30.,  30.,  30.,  30.],\n",
       "       [ 30.,  30.,  30.,  30.,  30.],\n",
       "       [ 30.,  30.,  30.,  30.,  30.],\n",
       "       [ 30.,  30.,  30.,  30.,  30.],\n",
       "       [ 30.,  30.,  30.,  30.,  30.]])"
      ]
     },
     "execution_count": 24,
     "metadata": {},
     "output_type": "execute_result"
    }
   ],
   "source": [
    "ndimage.convolve(fivebyfive, threebythree_kernel, mode = 'reflect')"
   ]
  },
  {
   "cell_type": "code",
   "execution_count": 19,
   "metadata": {},
   "outputs": [
    {
     "name": "stdout",
     "output_type": "stream",
     "text": [
      "Help on function convolve in module scipy.ndimage.filters:\n",
      "\n",
      "convolve(input, weights, output=None, mode='reflect', cval=0.0, origin=0)\n",
      "    Multidimensional convolution.\n",
      "    \n",
      "    The array is convolved with the given kernel.\n",
      "    \n",
      "    Parameters\n",
      "    ----------\n",
      "    input : array_like\n",
      "        Input array to filter.\n",
      "    weights : array_like\n",
      "        Array of weights, same number of dimensions as input\n",
      "    output : ndarray, optional\n",
      "        The `output` parameter passes an array in which to store the\n",
      "        filter output. Output array should have different name as\n",
      "        compared to input array to avoid aliasing errors.  \n",
      "    mode : {'reflect','constant','nearest','mirror', 'wrap'}, optional\n",
      "        the `mode` parameter determines how the array borders are\n",
      "        handled. For 'constant' mode, values beyond borders are set to be\n",
      "        `cval`. Default is 'reflect'.\n",
      "    cval : scalar, optional\n",
      "        Value to fill past edges of input if `mode` is 'constant'. Default\n",
      "        is 0.0\n",
      "    origin : array_like, optional\n",
      "        The `origin` parameter controls the placement of the filter, \n",
      "        relative to the centre of the current element of the input.  \n",
      "        Default of 0 is equivalent to ``(0,)*input.ndim``.\n",
      "    \n",
      "    Returns\n",
      "    -------\n",
      "    result : ndarray\n",
      "        The result of convolution of `input` with `weights`.\n",
      "    \n",
      "    See Also\n",
      "    --------\n",
      "    correlate : Correlate an image with a kernel.\n",
      "    \n",
      "    Notes\n",
      "    -----\n",
      "    Each value in result is :math:`C_i = \\sum_j{I_{i+k-j} W_j}`, where\n",
      "    W is the `weights` kernel,\n",
      "    j is the n-D spatial index over :math:`W`,\n",
      "    I is the `input` and k is the coordinate of the center of\n",
      "    W, specified by `origin` in the input parameters.\n",
      "    \n",
      "    Examples\n",
      "    --------\n",
      "    Perhaps the simplest case to understand is ``mode='constant', cval=0.0``,\n",
      "    because in this case borders (i.e. where the `weights` kernel, centered\n",
      "    on any one value, extends beyond an edge of `input`.\n",
      "    \n",
      "    >>> a = np.array([[1, 2, 0, 0],\n",
      "    ...               [5, 3, 0, 4],\n",
      "    ...               [0, 0, 0, 7],\n",
      "    ...               [9, 3, 0, 0]])\n",
      "    >>> k = np.array([[1,1,1],[1,1,0],[1,0,0]])\n",
      "    >>> from scipy import ndimage\n",
      "    >>> ndimage.convolve(a, k, mode='constant', cval=0.0)\n",
      "    array([[11, 10,  7,  4],\n",
      "           [10,  3, 11, 11],\n",
      "           [15, 12, 14,  7],\n",
      "           [12,  3,  7,  0]])\n",
      "    \n",
      "    Setting ``cval=1.0`` is equivalent to padding the outer edge of `input`\n",
      "    with 1.0's (and then extracting only the original region of the result).\n",
      "    \n",
      "    >>> ndimage.convolve(a, k, mode='constant', cval=1.0)\n",
      "    array([[13, 11,  8,  7],\n",
      "           [11,  3, 11, 14],\n",
      "           [16, 12, 14, 10],\n",
      "           [15,  6, 10,  5]])\n",
      "    \n",
      "    With ``mode='reflect'`` (the default), outer values are reflected at the\n",
      "    edge of `input` to fill in missing values.\n",
      "    \n",
      "    >>> b = np.array([[2, 0, 0],\n",
      "    ...               [1, 0, 0],\n",
      "    ...               [0, 0, 0]])\n",
      "    >>> k = np.array([[0,1,0], [0,1,0], [0,1,0]])\n",
      "    >>> ndimage.convolve(b, k, mode='reflect')\n",
      "    array([[5, 0, 0],\n",
      "           [3, 0, 0],\n",
      "           [1, 0, 0]])\n",
      "    \n",
      "    This includes diagonally at the corners.\n",
      "    \n",
      "    >>> k = np.array([[1,0,0],[0,1,0],[0,0,1]])\n",
      "    >>> ndimage.convolve(b, k)\n",
      "    array([[4, 2, 0],\n",
      "           [3, 2, 0],\n",
      "           [1, 1, 0]])\n",
      "    \n",
      "    With ``mode='nearest'``, the single nearest value in to an edge in\n",
      "    `input` is repeated as many times as needed to match the overlapping\n",
      "    `weights`.\n",
      "    \n",
      "    >>> c = np.array([[2, 0, 1],\n",
      "    ...               [1, 0, 0],\n",
      "    ...               [0, 0, 0]])\n",
      "    >>> k = np.array([[0, 1, 0],\n",
      "    ...               [0, 1, 0],\n",
      "    ...               [0, 1, 0],\n",
      "    ...               [0, 1, 0],\n",
      "    ...               [0, 1, 0]])\n",
      "    >>> ndimage.convolve(c, k, mode='nearest')\n",
      "    array([[7, 0, 3],\n",
      "           [5, 0, 2],\n",
      "           [3, 0, 1]])\n",
      "\n"
     ]
    }
   ],
   "source": [
    "help(ndimage.convolve)"
   ]
  },
  {
   "cell_type": "code",
   "execution_count": null,
   "metadata": {
    "collapsed": true
   },
   "outputs": [],
   "source": []
  }
 ],
 "metadata": {
  "kernelspec": {
   "display_name": "Python 3",
   "language": "python",
   "name": "python3"
  },
  "language_info": {
   "codemirror_mode": {
    "name": "ipython",
    "version": 3
   },
   "file_extension": ".py",
   "mimetype": "text/x-python",
   "name": "python",
   "nbconvert_exporter": "python",
   "pygments_lexer": "ipython3",
   "version": "3.6.2"
  }
 },
 "nbformat": 4,
 "nbformat_minor": 2
}
